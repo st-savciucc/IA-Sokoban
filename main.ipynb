{
 "cells": [
  {
   "cell_type": "markdown",
   "id": "32f0c8bb",
   "metadata": {},
   "source": [
    "## Inteligență Artificială  Tema 1 - 2025: Sokoban\n",
    "\n",
    "Responsabili:\n",
    "- Andrei Olaru\n",
    "- Cătălin Chiru\n",
    "- Andrei Dugăeșescu\n",
    "- Mihai Nan\n",
    "- Vlad Matei Drăghici\n",
    "- Alexandru Baciu\n",
    "- Bogdan-Andrei Sprîncenatu"
   ]
  },
  {
   "cell_type": "code",
   "execution_count": null,
   "id": "5e0717ff",
   "metadata": {},
   "outputs": [],
   "source": [
    "from sokoban import Map, save_images, create_gif\n",
    "import time"
   ]
  },
  {
   "cell_type": "markdown",
   "id": "a0445a9e",
   "metadata": {},
   "source": [
    "# Creating a map "
   ]
  },
  {
   "cell_type": "code",
   "execution_count": 2,
   "id": "56d9cf8e",
   "metadata": {},
   "outputs": [],
   "source": [
    "# Maps can be created using the Map class\n",
    "map_from_init = Map(5, 5, 0, 0, [('box1', 1, 3)], [(4, 4)], [(3,3), (3,4), (3,1)], 'easy_map1')\n",
    "\n",
    "# Maps can be created through yaml files\n",
    "map_from_yaml = Map.from_yaml('tests/easy_map1.yaml')\n",
    "\n",
    "assert str(map_from_init) == str(map_from_yaml), \"Reading from yaml file Failed\""
   ]
  },
  {
   "cell_type": "code",
   "execution_count": 3,
   "id": "0491ba00",
   "metadata": {},
   "outputs": [],
   "source": [
    "# Maps can also be created from their string representation\n",
    "map_str = str(map_from_init)\n",
    "map_from_str = Map.from_str(map_str)\n",
    "\n",
    "assert str(map_from_init) == str(map_from_str), \"String conversion Failed\""
   ]
  },
  {
   "cell_type": "markdown",
   "id": "3ca391ef",
   "metadata": {},
   "source": [
    "# Solving a map "
   ]
  },
  {
   "cell_type": "code",
   "execution_count": 4,
   "id": "333bbcbb",
   "metadata": {},
   "outputs": [],
   "source": [
    "map = Map(5, 5, 0, 0, [('box1', 1, 3)], [(4, 4)], [(3,3), (3,4), (3,1)], 'easy_map1')"
   ]
  },
  {
   "cell_type": "markdown",
   "id": "f06ec825",
   "metadata": {},
   "source": [
    "# Visualizing a map "
   ]
  },
  {
   "cell_type": "code",
   "execution_count": 6,
   "id": "a4f65cdd",
   "metadata": {},
   "outputs": [
    {
     "name": "stdout",
     "output_type": "stream",
     "text": [
      "\n",
      "_ _ _ _ X \n",
      "_ / _ / / \n",
      "_ _ _ _ _ \n",
      "_ _ _ B _ \n",
      "P _ _ _ _ \n"
     ]
    }
   ],
   "source": [
    "print(map)"
   ]
  },
  {
   "cell_type": "code",
   "execution_count": 7,
   "id": "eea95b61",
   "metadata": {},
   "outputs": [
    {
     "data": {
      "image/png": "[encoded data removed]",
      "text/plain": [
       "<Figure size 432x288 with 1 Axes>"
      ]
     },
     "metadata": {
      "needs_background": "light"
     },
     "output_type": "display_data"
    }
   ],
   "source": [
    "map.plot_map()"
   ]
  },
  {
   "cell_type": "code",
   "execution_count": null,
   "id": "33236d66",
   "metadata": {},
   "outputs": [
    {
     "name": "stdout",
     "output_type": "stream",
     "text": [
      "GIF saved at: images/dijkstra.gif\n"
     ]
    }
   ],
   "source": [
    "# To save the state of a map to disk:\n",
    "map.save_map('images', 'easy_map1_init.png')"
   ]
  },
  {
   "cell_type": "code",
   "execution_count": null,
   "id": "65b75b4e",
   "metadata": {},
   "outputs": [],
   "source": []
  }
 ],
 "metadata": {
  "kernelspec": {
   "display_name": "Python 3 (ipykernel)",
   "language": "python",
   "name": "python3"
  },
  "language_info": {
   "codemirror_mode": {
    "name": "ipython",
    "version": 3
   },
   "file_extension": ".py",
   "mimetype": "text/x-python",
   "name": "python",
   "nbconvert_exporter": "python",
   "pygments_lexer": "ipython3",
   "version": "3.10.5"
  }
 },
 "nbformat": 4,
 "nbformat_minor": 5
}
